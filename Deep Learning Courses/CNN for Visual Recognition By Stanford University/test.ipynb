{
 "cells": [
  {
   "cell_type": "code",
   "execution_count": 1,
   "metadata": {},
   "outputs": [],
   "source": [
    "import numpy as np"
   ]
  },
  {
   "cell_type": "code",
   "execution_count": 11,
   "metadata": {},
   "outputs": [],
   "source": [
    "x = np.arange(4)\n",
    "xx = x.reshape(4,1)\n",
    "y = np.ones(5)\n",
    "z = np.ones((3,4))"
   ]
  },
  {
   "cell_type": "code",
   "execution_count": 48,
   "metadata": {},
   "outputs": [],
   "source": [
    "a = np.array([0.0, 10.0, 20.0, 30.0])\n",
    "b = np.array([1.0, 2.0, 3.0])"
   ]
  },
  {
   "cell_type": "code",
   "execution_count": 50,
   "metadata": {},
   "outputs": [
    {
     "output_type": "execute_result",
     "data": {
      "text/plain": "(3,)"
     },
     "metadata": {},
     "execution_count": 50
    }
   ],
   "source": [
    "b.shape"
   ]
  },
  {
   "cell_type": "code",
   "execution_count": 51,
   "metadata": {},
   "outputs": [
    {
     "output_type": "execute_result",
     "data": {
      "text/plain": "array([[ 1.,  2.,  3.],\n       [11., 12., 13.],\n       [21., 22., 23.],\n       [31., 32., 33.]])"
     },
     "metadata": {},
     "execution_count": 51
    }
   ],
   "source": [
    "a[:, np.newaxis] + b"
   ]
  },
  {
   "cell_type": "code",
   "execution_count": 85,
   "metadata": {},
   "outputs": [
    {
     "output_type": "execute_result",
     "data": {
      "text/plain": "array([[ 0,  1],\n       [ 2,  3],\n       [ 4,  5],\n       [ 6,  7],\n       [ 8,  9],\n       [10, 11]])"
     },
     "metadata": {},
     "execution_count": 85
    }
   ],
   "source": [
    "X = np.arange(12)\n",
    "X = X.reshape(6, 2)\n",
    "X"
   ]
  },
  {
   "cell_type": "code",
   "execution_count": 86,
   "metadata": {},
   "outputs": [
    {
     "output_type": "execute_result",
     "data": {
      "text/plain": "array([[0, 1],\n       [2, 3],\n       [4, 5]])"
     },
     "metadata": {},
     "execution_count": 86
    }
   ],
   "source": [
    "Y = np.arange(6)\n",
    "Y = Y.reshape(3, 2)\n",
    "Y"
   ]
  },
  {
   "cell_type": "code",
   "execution_count": 87,
   "metadata": {},
   "outputs": [
    {
     "output_type": "execute_result",
     "data": {
      "text/plain": "array([[  0,   1],\n       [  4,   9],\n       [ 16,  25],\n       [ 36,  49],\n       [ 64,  81],\n       [100, 121]], dtype=int32)"
     },
     "metadata": {},
     "execution_count": 87
    }
   ],
   "source": [
    "X**2"
   ]
  },
  {
   "cell_type": "code",
   "execution_count": 92,
   "metadata": {},
   "outputs": [
    {
     "output_type": "execute_result",
     "data": {
      "text/plain": "array([  1,  13,  41,  85, 145, 221], dtype=int32)"
     },
     "metadata": {},
     "execution_count": 92
    }
   ],
   "source": [
    "np.sum(X**2, axis= 1)"
   ]
  },
  {
   "cell_type": "code",
   "execution_count": 89,
   "metadata": {},
   "outputs": [
    {
     "output_type": "execute_result",
     "data": {
      "text/plain": "array([[ 0,  1],\n       [ 4,  9],\n       [16, 25]], dtype=int32)"
     },
     "metadata": {},
     "execution_count": 89
    }
   ],
   "source": [
    "Y**2"
   ]
  },
  {
   "cell_type": "code",
   "execution_count": 94,
   "metadata": {},
   "outputs": [
    {
     "output_type": "execute_result",
     "data": {
      "text/plain": "array([ 1, 13, 41], dtype=int32)"
     },
     "metadata": {},
     "execution_count": 94
    }
   ],
   "source": [
    "np.sum(Y**2, axis=1)"
   ]
  },
  {
   "cell_type": "code",
   "execution_count": 91,
   "metadata": {},
   "outputs": [
    {
     "output_type": "execute_result",
     "data": {
      "text/plain": "array([[ 1,  3,  5,  7,  9, 11],\n       [ 3, 13, 23, 33, 43, 53],\n       [ 5, 23, 41, 59, 77, 95]])"
     },
     "metadata": {},
     "execution_count": 91
    }
   ],
   "source": [
    "np.dot(Y,X.T)"
   ]
  },
  {
   "cell_type": "code",
   "execution_count": 101,
   "metadata": {},
   "outputs": [
    {
     "output_type": "execute_result",
     "data": {
      "text/plain": "array([[ 0.        ,  2.82842712,  5.65685425,  8.48528137, 11.3137085 ,\n        14.14213562],\n       [ 2.82842712,  0.        ,  2.82842712,  5.65685425,  8.48528137,\n        11.3137085 ],\n       [ 5.65685425,  2.82842712,  0.        ,  2.82842712,  5.65685425,\n         8.48528137]])"
     },
     "metadata": {},
     "execution_count": 101
    }
   ],
   "source": [
    "np.sqrt(np.sum(X**2, axis= 1) -2 *  np.dot(Y,X.T) + np.sum(Y**2, axis=1)[:,np.newaxis])"
   ]
  },
  {
   "cell_type": "code",
   "execution_count": 100,
   "metadata": {},
   "outputs": [
    {
     "output_type": "execute_result",
     "data": {
      "text/plain": "array([[ 0.        ,  2.82842712,  5.65685425],\n       [ 2.82842712,  0.        ,  2.82842712],\n       [ 5.65685425,  2.82842712,  0.        ],\n       [ 8.48528137,  5.65685425,  2.82842712],\n       [11.3137085 ,  8.48528137,  5.65685425],\n       [14.14213562, 11.3137085 ,  8.48528137]])"
     },
     "metadata": {},
     "execution_count": 100
    }
   ],
   "source": [
    "compute_distances_two_loops(Y,X)"
   ]
  },
  {
   "cell_type": "code",
   "execution_count": null,
   "metadata": {},
   "outputs": [],
   "source": [
    "import numpy as np\n",
    "folds = np.array_split(kdata, k) # each fold is 19 rows x 9 columns\n",
    "np.random.shuffle(kdata) # Shuffle all rows\n",
    "folds = np.array_split(kdata, k)\n",
    "\n",
    "for i in range (k):\n",
    "    xtest = folds[i][:,:8] # Set ith fold to be test\n",
    "    ytest = folds[i][:,8]\n",
    "    new_folds = np.row_stack(np.delete(folds,i,0))\n",
    "    xtrain = new_folds[:, :8]\n",
    "    ytrain = new_folds[:,8]\n",
    "\n",
    "    # some print functions to help you debug\n",
    "    print(f'Fold {i}')\n",
    "    print(f'xtest shape  : {xtest.shape}')\n",
    "    print(f'ytest shape  : {ytest.shape}')\n",
    "    print(f'xtrain shape : {xtrain.shape}')\n",
    "    print(f'ytrain shape : {ytrain.shape}\\n')"
   ]
  },
  {
   "cell_type": "code",
   "execution_count": 3,
   "metadata": {},
   "outputs": [
    {
     "output_type": "execute_result",
     "data": {
      "text/plain": "array([[2, 1, 1, 0],\n       [1, 1, 0, 2]])"
     },
     "metadata": {},
     "execution_count": 3
    }
   ],
   "source": [
    "import numpy as np\n",
    "\n",
    "X = np.array([[1, 1, 1],\n",
    "              [0, 1, 1],\n",
    "              [0, 1, 1]])\n",
    "Y = np.array([[0],\n",
    "             [1],\n",
    "             [1]])\n",
    "W = np.array([[2, 1, 0],\n",
    "              [1, 1, 2]])\n",
    "W"
   ]
  },
  {
   "cell_type": "code",
   "execution_count": 7,
   "metadata": {},
   "outputs": [
    {
     "output_type": "execute_result",
     "data": {
      "text/plain": "array([[4, 2, 1],\n       [4, 3, 3]])"
     },
     "metadata": {},
     "execution_count": 7
    }
   ],
   "source": [
    "W.dot(X.T)"
   ]
  },
  {
   "cell_type": "code",
   "execution_count": 7,
   "metadata": {},
   "outputs": [
    {
     "output_type": "execute_result",
     "data": {
      "text/plain": "{('a', 'b'): ('c', 'd'), (1, 2): [(2, 22)]}"
     },
     "metadata": {},
     "execution_count": 7
    }
   ],
   "source": [
    "a = {}\n",
    "key = [('a', 'b')]\n",
    "value = [('c','d')]\n",
    "a = dict(zip(key,value))\n",
    "a[(1, 2)] = [(2,22)]\n",
    "a"
   ]
  },
  {
   "cell_type": "code",
   "execution_count": 34,
   "metadata": {},
   "outputs": [
    {
     "output_type": "error",
     "ename": "SyntaxError",
     "evalue": "can't assign to function call (<ipython-input-34-d529ea05edb6>, line 9)",
     "traceback": [
      "\u001b[1;36m  File \u001b[1;32m\"<ipython-input-34-d529ea05edb6>\"\u001b[1;36m, line \u001b[1;32m9\u001b[0m\n\u001b[1;33m    best_svm = [k for k, sorted(v) in results.items() if v == best_val ] # getting all keys containing the `maximum`\u001b[0m\n\u001b[1;37m                        ^\u001b[0m\n\u001b[1;31mSyntaxError\u001b[0m\u001b[1;31m:\u001b[0m can't assign to function call\n"
     ]
    }
   ],
   "source": [
    "learning_rates = [1e-7, 5e-5]\n",
    "regularization_strengths = [2.5e4, 5e4,]\n",
    "results ={}\n",
    "\n",
    "results[3, 2] = (2, 1)\n",
    "results[4, 6] = (1, 3)\n",
    "\n",
    "best_val = max(results.values()) []  # maximum value\n",
    "best_svm = [k for k, v in results.items() if v == best_val ] # getting all keys containing the `maximum`\n",
    "print(best_val)\n",
    "print(best_svm)"
   ]
  },
  {
   "cell_type": "code",
   "execution_count": 2,
   "metadata": {},
   "outputs": [],
   "source": [
    "import numpy as np\n",
    "def stable_softmax(X):\n",
    "    exps = np.exp(X - np.max(X))\n",
    "    return exps / np.sum(exps)"
   ]
  },
  {
   "cell_type": "code",
   "execution_count": 9,
   "metadata": {},
   "outputs": [
    {
     "output_type": "execute_result",
     "data": {
      "text/plain": "array([0.35137169, 0.38832577, 0.26030255])"
     },
     "metadata": {},
     "execution_count": 9
    }
   ],
   "source": [
    "X = [0.4, 0.5, 0.1]\n",
    "sum(stable_softmax(X))\n",
    "stable_softmax(X)"
   ]
  },
  {
   "cell_type": "code",
   "execution_count": 54,
   "metadata": {},
   "outputs": [],
   "source": [
    "import numpy as np\n",
    "\n",
    "X = np.array([[1, 1, 1],\n",
    "              [0, 1, 1],\n",
    "              [0, 1, 1]])\n",
    "Y = np.array([0, 1, 1])\n",
    "W = np.array([[2, 1, 0],\n",
    "              [1, 1, 2]])\n",
    "W = W.T"
   ]
  },
  {
   "cell_type": "code",
   "execution_count": 11,
   "metadata": {},
   "outputs": [
    {
     "output_type": "execute_result",
     "data": {
      "text/plain": "array([[2, 1],\n       [1, 1],\n       [0, 2]])"
     },
     "metadata": {},
     "execution_count": 11
    }
   ],
   "source": [
    "W"
   ]
  },
  {
   "cell_type": "code",
   "execution_count": 55,
   "metadata": {},
   "outputs": [],
   "source": [
    "loss = 0.0\n",
    "dW = np.zeros_like(W)\n",
    "\n",
    "N = X.shape[0]\n",
    "C = W.shape[1]\n",
    "\n",
    "f = X.dot(W)\n"
   ]
  },
  {
   "cell_type": "code",
   "execution_count": 56,
   "metadata": {},
   "outputs": [
    {
     "output_type": "execute_result",
     "data": {
      "text/plain": "array([[3, 4],\n       [1, 3],\n       [1, 3]])"
     },
     "metadata": {},
     "execution_count": 56
    }
   ],
   "source": [
    "f"
   ]
  },
  {
   "cell_type": "code",
   "execution_count": 70,
   "metadata": {},
   "outputs": [
    {
     "output_type": "stream",
     "name": "stdout",
     "text": "[[-1  0]\n [-2  0]\n [-2  0]]\n[1.36787944 1.13533528 1.13533528]\n"
    }
   ],
   "source": [
    "f -= np.matrix(np.max(f, axis=1)).T\n",
    "print(f)\n",
    "term1 = -f[np.arange(N), Y]\n",
    "term1 \n",
    "sum_j = np.sum(np.exp(f), axis=1)\n",
    "print(sum_j)\n",
    "term2 = np.log(sum_j)\n",
    "loss = term1 + term2\n",
    "loss = np.sum(loss)\n",
    "loss /= N \n",
    "\n",
    "loss += 0.5 * 0.0001 * np.sum(W * W)\n",
    "# loss"
   ]
  },
  {
   "cell_type": "code",
   "execution_count": 67,
   "metadata": {},
   "outputs": [
    {
     "output_type": "execute_result",
     "data": {
      "text/plain": "matrix([[-0.24168619,  0.24468619],\n        [-0.16321758,  0.16521758],\n        [-0.16421758,  0.16621758]])"
     },
     "metadata": {},
     "execution_count": 67
    }
   ],
   "source": [
    "coef = np.exp(f) / np.matrix(sum_j).T\n",
    "coef[np.arange(N),Y] -= 1\n",
    "dW = X.T.dot(coef)\n",
    "dW /= N\n",
    "dW += 0.001*W\n",
    "dW"
   ]
  }
 ],
 "metadata": {
  "language_info": {
   "codemirror_mode": {
    "name": "ipython",
    "version": 3
   },
   "file_extension": ".py",
   "mimetype": "text/x-python",
   "name": "python",
   "nbconvert_exporter": "python",
   "pygments_lexer": "ipython3",
   "version": "3.7.6-final"
  },
  "orig_nbformat": 2,
  "kernelspec": {
   "name": "python37164bit10virtualenvcae4b91a0a4b4b17865e448f6050f74c",
   "display_name": "Python 3.7.1 64-bit ('10': virtualenv)"
  }
 },
 "nbformat": 4,
 "nbformat_minor": 2
}